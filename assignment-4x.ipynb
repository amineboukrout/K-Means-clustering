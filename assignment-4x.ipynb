{
 "cells": [
  {
   "cell_type": "markdown",
   "metadata": {},
   "source": [
    "# K-means Clustering\n",
    "\n",
    "You are given a dataset file `data.csv` of 360 records, hence there are 360 lines in total in the text file `data.csv`. Each record in `data.csv` is a vector of 2577 elements of which the first 2576 elements represent data features and the last element in each record represents class id. For each record features are nothing but integer values in the range of `[0, 255]` representing intensities of pixels of a 2D image of size `56 x 46` (height x width) of a subject. The data is acquired from 40 subjects with 9 images from each subject. The class id for each subject is a unique integer number in the range of `[1,40]`. Please note that after loading, features are normalized to range `[0,1]` (see `load_dataset`). You are also provided with a Jupyter notebook which you can use to answer the test questions."
   ]
  },
  {
   "cell_type": "code",
   "execution_count": 2,
   "metadata": {},
   "outputs": [],
   "source": [
    "%matplotlib inline\n",
    "import matplotlib.pyplot as pl\n",
    "import numpy as np"
   ]
  },
  {
   "cell_type": "code",
   "execution_count": 3,
   "metadata": {},
   "outputs": [],
   "source": [
    "def load_dataset(data='./dataset/data.csv'):\n",
    "    \"\"\"\n",
    "    Loads and returns train and test datasets.\n",
    "    \"\"\"\n",
    "    data = np.genfromtxt(fname=data, delimiter=',')\n",
    "    y = data[:,data.shape[1]-1].astype(np.int)\n",
    "    x = data[:,:data.shape[1]-1] / 255.0\n",
    "    return (x, y)"
   ]
  },
  {
   "cell_type": "markdown",
   "metadata": {},
   "source": [
    "The following script calls function `load_dataset` to load dataset (`x`) and corresponding class ids (`y`)."
   ]
  },
  {
   "cell_type": "code",
   "execution_count": 4,
   "metadata": {},
   "outputs": [],
   "source": [
    "x, y = load_dataset()"
   ]
  },
  {
   "cell_type": "markdown",
   "metadata": {},
   "source": [
    "Each row of `x` is a 1D vector comprised of 2576 (56 x 46) real numbers in `[0,1]` and corresponds to a face image of an subject. The following function takes a 1D vector array as input and returns the corresponding 2D representation as image."
   ]
  },
  {
   "cell_type": "code",
   "execution_count": 5,
   "metadata": {},
   "outputs": [],
   "source": [
    "def vector2image(image_vector, image_height=56, image_width=46):\n",
    "    \"\"\"\n",
    "    Returns image representation of the input 1D vector.\n",
    "    \"\"\"\n",
    "    image = np.reshape(image_vector, (image_height, image_width))\n",
    "    return image"
   ]
  },
  {
   "cell_type": "markdown",
   "metadata": {},
   "source": [
    "Now you can use `vector2image` function to convert a 1D feature vector to 2D image for visualisation purposes. The following script displays `x[0]` as image."
   ]
  },
  {
   "cell_type": "code",
   "execution_count": 6,
   "metadata": {},
   "outputs": [
    {
     "data": {
      "image/png": "[encoded data removed]",
      "text/plain": [
       "<matplotlib.figure.Figure at 0x7f21f73fee80>"
      ]
     },
     "metadata": {},
     "output_type": "display_data"
    }
   ],
   "source": [
    "record_index = 0\n",
    "image = vector2image(x[record_index])\n",
    "pl.figure()\n",
    "pl.imshow(image, cmap='gray')\n",
    "pl.title('Feature vector x[{:d}] as image, class id y[{:d}] = {:d}'.format(record_index, record_index, y[record_index]))\n",
    "pl.axis('off')\n",
    "pl.show()"
   ]
  },
  {
   "cell_type": "markdown",
   "metadata": {},
   "source": [
    "You are also provided with an implementation of _K_-means clustering algorithm as a template. Use this template and modify some of its member functions to answer some of the test questions. "
   ]
  },
  {
   "cell_type": "code",
   "execution_count": 7,
   "metadata": {},
   "outputs": [],
   "source": [
    "class Kmeans:\n",
    "    def __init__(self, x, c, suppress_output=False, display_interval=10):\n",
    "        self.reset(x, c, suppress_output, display_interval)        \n",
    "    \n",
    "    def reset(self, x, c, suppress_output, display_interval):\n",
    "        self.x = x # input dataset\n",
    "        self.c = c.copy() # initial cluster centroids                         \n",
    "        self.N = x.shape[0] # the number of data points\n",
    "        self.K = c.shape[0] # the number of clusters (K)        \n",
    "        self.a = np.zeros(self.N, dtype=np.int) # class assignment vector\n",
    "        self.a_previous = np.ones(self.N, dtype=np.int) # class assignment vector from the previous iteration\n",
    "        self.distance_matrix = np.zeros((self.N, self.K), dtype=np.float) # each column of this matrix is represents distances of data points from the corresponding cluster centroid        \n",
    "        self.max_iteration = 100 # used for convergence\n",
    "        self.current_iteration = 0 # keeps track of the iterations\n",
    "        self.J = 0.0 # keeps the track of cost function  due to cluster updates\n",
    "        self.suppress_output = suppress_output # this is to suppress outputs\n",
    "        self.display_interval = display_interval # used for displaying intermediate results, such as cost function\n",
    "    \n",
    "    def distance(self, x, ck):\n",
    "        return np.sqrt(np.sum((x-ck)**2, axis=1))        \n",
    "        \n",
    "    def assignment(self):\n",
    "        # calculate distances of data points from each cluster centroid\n",
    "        for k in np.arange(self.K):\n",
    "            self.distance_matrix[:, k] = self.distance(self.x, self.c[k])\n",
    "        # associate each data point to the clossest cluster centroid \n",
    "        self.a = np.argmin(self.distance_matrix, axis=1)\n",
    "        self.J = np.mean(np.min(self.distance_matrix, axis=1))\n",
    "    \n",
    "    def update(self):\n",
    "        # update cluster centroids\n",
    "        for k in np.arange(self.K):            \n",
    "            self.c[k] = np.mean(self.x[self.a == k], axis=0)\n",
    "        \n",
    "    def is_converged(self):\n",
    "        if (self.current_iteration <= self.max_iteration):\n",
    "            return False\n",
    "        else:\n",
    "            return True\n",
    "    \n",
    "    def show_cluster_centroids(self, nrows=1, ncols=4, save=''):\n",
    "        pl.figure()\n",
    "        for k in np.arange(self.K):\n",
    "            image = vector2image(self.c[k])\n",
    "            pl.subplot(nrows, ncols, (k+1))\n",
    "            pl.imshow(image, cmap='gray')\n",
    "            pl.title('c[{:d}]'.format(k), fontsize=16)\n",
    "            pl.axis('off')\n",
    "        if save:\n",
    "            pl.savefig(save, dpi=300, bbox_inches='tight')\n",
    "        pl.show()\n",
    "            \n",
    "    def run(self):        \n",
    "        while not self.is_converged():\n",
    "            self.a_previous = self.a.copy()            \n",
    "            self.assignment()  \n",
    "            if not self.suppress_output and (self.current_iteration%self.display_interval == 0):\n",
    "                msg = 'iteration # = {:4d}, J = {:12.4f}'.format(self.current_iteration, self.J)            \n",
    "                print(msg)\n",
    "            self.update()\n",
    "            self.current_iteration += 1"
   ]
  }
 ],
 "metadata": {
  "kernelspec": {
   "display_name": "Python 3",
   "language": "python",
   "name": "python3"
  },
  "language_info": {
   "codemirror_mode": {
    "name": "ipython",
    "version": 3
   },
   "file_extension": ".py",
   "mimetype": "text/x-python",
   "name": "python",
   "nbconvert_exporter": "python",
   "pygments_lexer": "ipython3",
   "version": "3.6.4"
  }
 },
 "nbformat": 4,
 "nbformat_minor": 2
}
